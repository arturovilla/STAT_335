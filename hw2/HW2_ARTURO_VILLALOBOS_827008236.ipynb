{
 "cells": [
  {
   "cell_type": "markdown",
   "metadata": {},
   "source": [
    "# HW2"
   ]
  },
  {
   "cell_type": "markdown",
   "metadata": {},
   "source": [
    "## Question 1 （Theoretical question）"
   ]
  },
  {
   "cell_type": "markdown",
   "metadata": {},
   "source": [
    "We now examine the differences between LDA and QDA. \n",
    "\n",
    "(a) If the Bayes decision boundary is linear, do we expect LDA or QDA to perform better on the training set? On the test set?\n",
    "\n",
    "(b) If the Bayes decision boundary is non-linear, do we expect LDA or QDA to perform better on the training set? On the test set?\n",
    "\n",
    "In general, as the sample size \\textit{n} increases, do we expect the test prediction accuracy of QDA relative to LDA to improve, decline, or be unchanged? Why?\n",
    "\n",
    "True or False: Even if the Bayes decision boundary for a given problem is linear, we will probably achieve a superior test error rate using QDA rather than LDA because QDA is flexible enough to model a linear decision boundary. Justify your answer. "
   ]
  },
  {
   "cell_type": "markdown",
   "metadata": {},
   "source": [
    "- A\n",
    "   - for both the training and testing data sets, we should ecpect that LDA would preform better as it is less flexable and would not overfit the training data and the underlying decision boundry is linear\n",
    "- B\n",
    "   - this depends on just how non-linear the DB is as both QDA and LDA could preform just as bad or if the DB is only slightly non-linear , LDA would still be a better choice , but overall QDA would preform better.\n",
    "- C\n",
    "   -  we can expect the prediction accuracy of QDA to be improve relative to lda because once we train the LDA model it wont be able to accuratly predict the testing data as well as a more flexible moel can esspecially with a large amount of data \n",
    "- D\n",
    "    - false: even though QDA is more flexible , LDA produces a model that has a very high accuracy albiet take a lot of computational power. also the trade-off between bias and varience QDA has to make will make its error rate higher "
   ]
  },
  {
   "cell_type": "markdown",
   "metadata": {},
   "source": [
    "## Question 2 （Theoretical question)"
   ]
  },
  {
   "cell_type": "markdown",
   "metadata": {},
   "source": [
    "Suppose that we wish to predict whether a given stock will issue a dividend this year (Yes or No) based on $X$, last years percent profit. We examine a large number of companies and discover that the mean value of $X$ for companies that issues a dividend was $\\bar{X} = 10$,  while the mean for those that didn't was $\\bar{X} = 0$. In addition, the variance of $X$ for these two sets of companies was $\\hat{\\sigma}^2 = 36$. Finally, $80\\%$ of companies issued dividends. Assuming that $X$ follows a normal distribution, predict the probability that a company will issue a dividend this year given that its percentage profit was $X = 4$ last year.\n"
   ]
  },
  {
   "cell_type": "markdown",
   "metadata": {},
   "source": [
    "here its useful to use the density of a random normal variable function\n",
    "\n",
    "$f(x) = \\frac{1}{\\sqrt{2\\pi\\sigma^2}}e^{\\frac{-(x-\\mu)^2}{2\\sigma^2}}$\n",
    "and from here we can use bayes theorem and this function in conjuction to find the P(divided givien | X=4)"
   ]
  },
  {
   "cell_type": "code",
   "execution_count": 3,
   "metadata": {},
   "outputs": [
    {
     "data": {
      "text/plain": [
       "0.7993820015399294"
      ]
     },
     "execution_count": 3,
     "metadata": {},
     "output_type": "execute_result"
    }
   ],
   "source": [
    "import math as mt\n",
    "pi1 = .8\n",
    "mean1 = 10 \n",
    "pi2 = .2\n",
    "mean2 = 0\n",
    "vari = 36\n",
    "x = 4\n",
    "\n",
    "predictedprob = ( pi1*mt.exp(-1*((1/72)*(x - mean1))**2) )/( (pi1 * mt.exp(-1*((1/72)*(x - mean1))**2))+(pi2 *mt.exp(-1*((1/72)*(x - mean2))**2)) )\n",
    "predictedprob"
   ]
  },
  {
   "cell_type": "markdown",
   "metadata": {},
   "source": [
    "## Question 3 （Theoretical question)"
   ]
  },
  {
   "cell_type": "markdown",
   "metadata": {},
   "source": [
    "Explain whether each scenario is a classification or regression problem, and indicate whether we are most interested in inference or prediction. Finally, provide $n$ and $p$.\n",
    "\n",
    "1. We collect a set of data on the top 500 firms in the US. For each firm we record profit, number of employees, industry and the CEO salary. We are interested in understanding which factors affect CEO salary. \n",
    "\n",
    "Ans: because we are interested in knowing more about what affect CEO saleries, thats like saying we are iterested in the data generating process, and we want to use a model to do this. This would be inference with n ==500 p = 3\n",
    "\n",
    "\n",
    "\n",
    "2. We are considering launching a new product and wish to know whether it will be a success or a failure. We collect data on 20 similar products that were previously launched. For each product we have recorded whether it was a success or failure, price charged for the product, marketing budget, competition price, and ten other variables.\n",
    "\n",
    "Ans: \"we wish to know\" is the same as saying that we want to predict whether or not the product will succede, we want to do ths with a classification model of some sort with a n =20 and p = 13\n",
    "\n",
    "3. We are interested in predicting the % change in the USD/Euro exchange rate in relation to the weekly changes in the world stock markets. Hence we collect weekly data for all of 2012. For each week we record the % change in the USD/Euro, the % change in the US market, the % change in the British market, and the % change in the German market.\n",
    "\n",
    "Ans: we want to predict usd/euro exchange rates using some other markets as predictors. we need to first determine if these other variables influence or affect the dependent variable. we can gain this insight through regression and inference, however the main concern is with predicting exchange rates. this has more to do with prediction where n = 52 and p = 3\n"
   ]
  },
  {
   "cell_type": "markdown",
   "metadata": {},
   "source": [
    "## Default Data set \n",
    "*Source: ISRL package*\n",
    "We first introduce a simulated `Default` data set. A simulated data set containing information on ten thousand customers. The aim here is to predict which customers will default on their credit card debt. \n",
    "\n",
    "Columns: \n",
    "* `default`: A factor with levels No and Yes indicating whether the customer defaulted on their debt\n",
    "* `student`: A factor with levels No and Yes indicating whether the customer is a student. \n",
    "* `balance`: The average balance that the customer has remaining on their credit card after making their monthly payment\n",
    "* `income`: Income of customer"
   ]
  },
  {
   "cell_type": "code",
   "execution_count": 4,
   "metadata": {},
   "outputs": [],
   "source": [
    "import pandas as pd\n",
    "import numpy as np\n",
    "import matplotlib as mpl\n",
    "import matplotlib.pyplot as plt\n",
    "import seaborn as sns\n",
    "\n",
    "import sklearn.linear_model as lm\n",
    "import sklearn.linear_model as LogisticRegression\n",
    "from sklearn.discriminant_analysis import LinearDiscriminantAnalysis as LDA\n",
    "from sklearn.discriminant_analysis import QuadraticDiscriminantAnalysis as QDA\n",
    "from sklearn.metrics import confusion_matrix, classification_report, precision_score, accuracy_score\n",
    "from sklearn import preprocessing\n",
    "from sklearn import neighbors\n",
    "\n",
    "import statsmodels.api as sm\n",
    "import statsmodels.formula.api as smf\n",
    "\n",
    "%matplotlib inline\n",
    "plt.style.use('seaborn-white')\n",
    "import warnings\n",
    "warnings.filterwarnings('ignore')"
   ]
  },
  {
   "cell_type": "markdown",
   "metadata": {},
   "source": [
    "## The  Logistic Sigmoid Function"
   ]
  },
  {
   "cell_type": "code",
   "execution_count": 5,
   "metadata": {},
   "outputs": [
    {
     "data": {
      "text/plain": [
       "Text(0.5, 1.0, 'Logistic (sigmoid)')"
      ]
     },
     "execution_count": 5,
     "metadata": {},
     "output_type": "execute_result"
    },
    {
     "data": {
      "image/png": "[encoded data removed]",
      "text/plain": [
       "<Figure size 432x288 with 1 Axes>"
      ]
     },
     "metadata": {},
     "output_type": "display_data"
    }
   ],
   "source": [
    "def logistic(x): return 1 / (1 + np.exp(-x))\n",
    "x = np.linspace(-6, 6, 100)\n",
    "plt.plot(x, logistic(x)) \n",
    "plt.grid(True) \n",
    "plt.title('Logistic (sigmoid)')"
   ]
  },
  {
   "cell_type": "markdown",
   "metadata": {},
   "source": [
    "## Q4. Compare the performance of linear regression and logistic regression to predict the probability that default = Yes using X = balance."
   ]
  },
  {
   "cell_type": "code",
   "execution_count": 6,
   "metadata": {},
   "outputs": [],
   "source": [
    "Default = pd.read_csv(\"/Users/arturovillalobos/STAT_files/HOMEWORK/hw2/Defualt.csv\")\n",
    "default = Default.values[:,1]\n",
    "Balance = Default.values[:,3]\n",
    "Income  = Default.values[:,4]\n",
    "Y       = Default.default.factorize()[0]"
   ]
  },
  {
   "cell_type": "markdown",
   "metadata": {},
   "source": [
    "## Q4(a). Use all the data set as training but creat $Xtest = [min(balance), max(balance)]$"
   ]
  },
  {
   "cell_type": "code",
   "execution_count": 7,
   "metadata": {},
   "outputs": [],
   "source": [
    "from sklearn.linear_model import LinearRegression\n",
    "from sklearn.linear_model import LogisticRegression\n",
    "from sklearn.neighbors    import KNeighborsClassifier \n",
    "from sklearn.discriminant_analysis import LinearDiscriminantAnalysis\n",
    "from sklearn.discriminant_analysis import QuadraticDiscriminantAnalysis"
   ]
  },
  {
   "cell_type": "code",
   "execution_count": 8,
   "metadata": {},
   "outputs": [],
   "source": [
    "X_train = Balance.reshape(-1,1) \n",
    "y_train = Y\n",
    "X_test = np.arange(Balance.min(), Balance.max()).reshape(-1,1)"
   ]
  },
  {
   "cell_type": "markdown",
   "metadata": {},
   "source": [
    "## Q4(b). Fit a linear regression on training data "
   ]
  },
  {
   "cell_type": "code",
   "execution_count": 9,
   "metadata": {},
   "outputs": [],
   "source": [
    "model_lin = LinearRegression()\n",
    "model_lin.fit(X_train,y_train)\n",
    "prob_lin = model_lin.predict(X_test)"
   ]
  },
  {
   "cell_type": "markdown",
   "metadata": {},
   "source": [
    "## Q4(c). Fit a logistic regression on training data"
   ]
  },
  {
   "cell_type": "code",
   "execution_count": 10,
   "metadata": {},
   "outputs": [],
   "source": [
    "model_log = LogisticRegression(solver='newton-cg')\n",
    "model_log.fit(X_train,y_train)\n",
    "prob_log = model_log.predict_proba(X_test)"
   ]
  },
  {
   "cell_type": "markdown",
   "metadata": {},
   "source": [
    "## Q4.(d) Plot side by side the Logistic and Linear Regression"
   ]
  },
  {
   "cell_type": "code",
   "execution_count": 11,
   "metadata": {},
   "outputs": [
    {
     "data": {
      "text/plain": [
       "[<matplotlib.lines.Line2D at 0x7fa7092a6100>]"
      ]
     },
     "execution_count": 11,
     "metadata": {},
     "output_type": "execute_result"
    },
    {
     "data": {
      "image/png": "[encoded data removed]",
      "text/plain": [
       "<Figure size 864x360 with 2 Axes>"
      ]
     },
     "metadata": {},
     "output_type": "display_data"
    }
   ],
   "source": [
    "fig, (ax1, ax2) = plt.subplots(1,2, figsize=(12,5))\n",
    "# Left plot\n",
    "ax1.scatter(X_train, y_train, color='orange')\n",
    "ax1.plot(X_test, prob_lin, color='lightblue', linewidth = 3)\n",
    "# Right plot\n",
    "ax2.scatter(X_train, y_train, color='orange')\n",
    "ax2.plot(X_test, prob_log[:,1], color='lightblue', linewidth = 3)"
   ]
  },
  {
   "cell_type": "markdown",
   "metadata": {},
   "source": [
    "## Q4.(e) Write down the Decision Boundary for the Logistic Regression above. \n",
    "## if  we classify the dafault status for log odds > 0.5 as \"Yes\"  and for log odds < 0.5 as \"No\". And show it in the graph. "
   ]
  },
  {
   "cell_type": "markdown",
   "metadata": {},
   "source": [
    "Answer :   Logistic Decsion Boundary  $\\log(p(x)/1-p(x))$ = $ \\beta_0 + \\beta_1*X$"
   ]
  },
  {
   "cell_type": "code",
   "execution_count": 12,
   "metadata": {},
   "outputs": [
    {
     "data": {
      "text/plain": [
       "(array([[0.00549892]]), array([-10.65133019]))"
      ]
     },
     "execution_count": 12,
     "metadata": {},
     "output_type": "execute_result"
    }
   ],
   "source": [
    "model_log.coef_,model_log.intercept_ #gives the intercepts of the linear equ"
   ]
  },
  {
   "cell_type": "markdown",
   "metadata": {},
   "source": [
    "## Notes/ Questions\n",
    "i am confused by this , if these are indeed the coefficient and intercept when p(x) = .5 then the plot of (Balance, -10.65133019+ 0.00549892*balance) should produce the decision boundry because it is at these values where the linear protion of the equation is equal to zero but as you can see below it seems wildly off to me . any help / note from grading would be really helpful even thoguh i know its not technically your responsibility"
   ]
  },
  {
   "cell_type": "code",
   "execution_count": 13,
   "metadata": {},
   "outputs": [
    {
     "data": {
      "text/plain": [
       "[<matplotlib.lines.Line2D at 0x7fa7091dda60>]"
      ]
     },
     "execution_count": 13,
     "metadata": {},
     "output_type": "execute_result"
    },
    {
     "data": {
      "image/png": "[encoded data removed]",
      "text/plain": [
       "<Figure size 432x288 with 1 Axes>"
      ]
     },
     "metadata": {},
     "output_type": "display_data"
    }
   ],
   "source": [
    "\n",
    "plt.scatter(X_train,y_train, color='orange')\n",
    "plt.plot(X_test, prob_log, color='lightblue', linewidth = 3)\n",
    "plt.plot(Balance, -10.65133019+ 0.00549892*Balance, color='black', linewidth = 3)"
   ]
  },
  {
   "cell_type": "markdown",
   "metadata": {},
   "source": [
    "## Q5.(a) Simulation Set up\n",
    "\n",
    "1. Generate from a two dimensional predictors from two groups with $f_1(X) = \\mathcal{N}\\left(\\left[\n",
    " \\begin{matrix}\n",
    "   0\\\\ -1\n",
    "  \\end{matrix} \n",
    "\\right], \\left[\n",
    " \\begin{matrix}\n",
    "   1 & 0.8\\\\ 0.8 & 1\n",
    "  \\end{matrix} \n",
    "\\right]\\right)$ and $f_1(X)\\sim \\mathcal{N}\\left(\\left[\n",
    " \\begin{matrix}\n",
    "   0\\\\ 1\n",
    "  \\end{matrix} \n",
    "\\right], \\left[\n",
    " \\begin{matrix}\n",
    "   1 & 0.8\\\\ 0.8 & 1\n",
    "  \\end{matrix} \n",
    "\\right]\\right)$\n",
    "\n",
    "2. The prior of each class $\\pi_1 = \\pi_2 = 0.5$\n",
    "\n",
    "3. For X coming from group 1, set Y = 1 and X coming from group 2, set Y = 2. \n",
    "\n",
    "4. Generate 100 samples each group."
   ]
  },
  {
   "cell_type": "code",
   "execution_count": 14,
   "metadata": {},
   "outputs": [],
   "source": [
    "n_samples, n_features = 100, 2\n",
    "mean1, mean2 = np.array([0, -1]), np.array([0, 1])\n",
    "Cov = np.array([[1, .8],[.8, 1]])\n",
    "np.random.seed(42)\n",
    "X1 = np.random.multivariate_normal(mean1, Cov, n_samples)\n",
    "X2 = np.random.multivariate_normal(mean2, Cov, n_samples)\n",
    "X  = np.vstack([X1, X2])\n",
    "y  = np.array([1] * X1.shape[0] + [2] * X2.shape[0])"
   ]
  },
  {
   "cell_type": "markdown",
   "metadata": {},
   "source": [
    "### Split the data into trianing and testing using 80-20 rule"
   ]
  },
  {
   "cell_type": "code",
   "execution_count": 15,
   "metadata": {},
   "outputs": [],
   "source": [
    "#libraries\n",
    "from sklearn.model_selection import train_test_split\n",
    "\n",
    "X_train,X_test,y_train,y_test= train_test_split(X,y,test_size=0.2, random_state = 2)"
   ]
  },
  {
   "cell_type": "markdown",
   "metadata": {},
   "source": [
    "### Scale the data before LDA and QDA."
   ]
  },
  {
   "cell_type": "code",
   "execution_count": 16,
   "metadata": {},
   "outputs": [],
   "source": [
    "from sklearn.preprocessing import StandardScaler \n",
    "\n",
    "sc = StandardScaler()\n",
    "X_train = sc.fit_transform(X_train)\n",
    "X_test = sc.transform(X_test)"
   ]
  },
  {
   "cell_type": "code",
   "execution_count": 17,
   "metadata": {},
   "outputs": [],
   "source": [
    "from sklearn.metrics import accuracy_score\n",
    "from sklearn.linear_model import LogisticRegression\n",
    "\n",
    "\n",
    "model_lda = LDA(store_covariance=True)\n",
    "model_lda.fit(X_train, y_train)\n",
    "predict_lda = model_lda.predict(X_test)\n",
    "error_lda = 1 - accuracy_score(y_test, predict_lda)\n",
    "\n",
    "model_qda = QDA()\n",
    "model_qda.fit(X_train, y_train)\n",
    "predict_qda = model_qda.predict(X_test)\n",
    "error_qda = 1- accuracy_score(y_test, predict_qda)"
   ]
  },
  {
   "cell_type": "code",
   "execution_count": 18,
   "metadata": {},
   "outputs": [],
   "source": [
    "model_log = LogisticRegression(solver='newton-cg')\n",
    "model_log.fit(X_train, y_train)\n",
    "predict_log = model_log.predict(X_test)\n",
    "#error_matrix = confusion_matrix(y_test, predict_log)\n",
    "#error_matrix\n",
    "error_log = 1- accuracy_score(y_test, predict_log)"
   ]
  },
  {
   "cell_type": "markdown",
   "metadata": {},
   "source": [
    "## Q5(c). Find all the parameters estimates for the Decision Boundaries of LDA and Logistic Regression"
   ]
  },
  {
   "cell_type": "code",
   "execution_count": 19,
   "metadata": {},
   "outputs": [
    {
     "data": {
      "text/plain": [
       "(array([0.11680137]), array([[-2.2381119 ,  3.52243935]]))"
      ]
     },
     "execution_count": 19,
     "metadata": {},
     "output_type": "execute_result"
    }
   ],
   "source": [
    "model_log.intercept_, model_log.coef_"
   ]
  },
  {
   "cell_type": "markdown",
   "metadata": {},
   "source": [
    "Logistic Decision Boundary: here it should be the same as before where we the DB should be when p(x) = .5 and $\\log(p(x)/1-p(x))$ = $ \\beta_0 + \\beta_1*X + \\beta_2*X_2$"
   ]
  },
  {
   "cell_type": "code",
   "execution_count": 20,
   "metadata": {},
   "outputs": [
    {
     "data": {
      "text/plain": [
       "(4.370293173087681, -6.799892717422216)"
      ]
     },
     "execution_count": 20,
     "metadata": {},
     "output_type": "execute_result"
    }
   ],
   "source": [
    "slopes = np.linalg.inv(model_lda.covariance_).dot(model_lda.means_[0,] - model_lda.means_[1,])\n",
    "slopes[0], slopes[1]"
   ]
  },
  {
   "cell_type": "code",
   "execution_count": 21,
   "metadata": {},
   "outputs": [
    {
     "data": {
      "text/plain": [
       "-1.2050031104517434"
      ]
     },
     "execution_count": 21,
     "metadata": {},
     "output_type": "execute_result"
    }
   ],
   "source": [
    "intercept = 0.5*model_lda.means_[0,].dot(np.linalg.inv(model_lda.covariance_).dot(model_lda.means_[0,])) \n",
    "- 0.5*model_lda.means_[1,].dot(np.linalg.inv(model_lda.covariance_).dot(model_lda.means_[1,]))"
   ]
  },
  {
   "cell_type": "markdown",
   "metadata": {},
   "source": [
    "Answer : LDA Decision Boundary :   0 = a + $X^T$ * B \n",
    "- Where:\n",
    "    - a = $\\log(\\pi_k/\\pi_l) - 1/2 *(\\mu_k - \\mu_l)^T\\Sigma^-1(\\mu_k-\\mu_l)$\n",
    "    - b = $ \\Sigma^-1 * (\\mu_k-\\mu_l)$"
   ]
  },
  {
   "cell_type": "code",
   "execution_count": 22,
   "metadata": {},
   "outputs": [
    {
     "data": {
      "text/plain": [
       "(array([0.3637822]),\n",
       " array([[-4.31566451,  6.71489406]]),\n",
       " array([0.475, 0.525]))"
      ]
     },
     "execution_count": 22,
     "metadata": {},
     "output_type": "execute_result"
    }
   ],
   "source": [
    "\n",
    "model_lda.intercept_,model_lda.coef_ , model_lda.priors_"
   ]
  },
  {
   "cell_type": "code",
   "execution_count": 25,
   "metadata": {},
   "outputs": [
    {
     "data": {
      "text/plain": [
       "array([[-0.42750141, -1.51494743],\n",
       "       [-1.09607563, -1.13282697],\n",
       "       [ 0.296178  , -0.85190321],\n",
       "       [-1.74085699, -2.25548865],\n",
       "       [ 0.27380996, -0.38304494],\n",
       "       [ 0.5869133 , -0.70764005],\n",
       "       [ 0.37548677, -1.8345779 ],\n",
       "       [ 1.81421167,  0.45858981],\n",
       "       [ 0.86148224,  0.0602297 ],\n",
       "       [ 1.30803692, -0.58518237],\n",
       "       [-1.31903977, -2.46183324],\n",
       "       [ 0.38648206, -1.51460782],\n",
       "       [ 0.48137   , -0.4484764 ],\n",
       "       [ 0.97312224,  0.21073453],\n",
       "       [ 0.66205756, -0.52242577],\n",
       "       [-0.01491278,  0.15657081],\n",
       "       [ 0.34728216, -1.32167297],\n",
       "       [-0.39426996, -2.16639928],\n",
       "       [ 0.4215567 , -1.81784751],\n",
       "       [ 1.19777493,  0.32228091],\n",
       "       [-0.75476232, -1.6463795 ],\n",
       "       [ 0.20493094, -0.98550376],\n",
       "       [ 1.63028384,  0.17501439],\n",
       "       [ 0.10270891, -0.22870829],\n",
       "       [ 0.23153732, -1.88350718],\n",
       "       [-0.18567934, -1.42922676],\n",
       "       [ 0.44875557, -0.16438638],\n",
       "       [-1.27258866, -1.6835954 ],\n",
       "       [ 0.89393319, -0.30162989],\n",
       "       [-0.62275854, -1.00576963],\n",
       "       [ 0.51329512, -0.60412593],\n",
       "       [ 1.42783526, -0.32871224],\n",
       "       [-1.19971043, -1.34194892],\n",
       "       [-0.24903017, -0.61434023],\n",
       "       [-0.13907328, -1.54708284],\n",
       "       [-0.82921984, -0.85648011],\n",
       "       [-0.4607962 , -0.47122867],\n",
       "       [ 2.22540003,  1.74521682],\n",
       "       [ 0.01197433, -1.17713453],\n",
       "       [ 0.54147256, -1.71557639],\n",
       "       [ 0.09547014, -0.67867204],\n",
       "       [-1.23816196, -2.56594483],\n",
       "       [ 0.92567389, -0.39166513],\n",
       "       [-0.97238693, -1.76446647],\n",
       "       [ 0.34026524, -0.33511593],\n",
       "       [-0.39840829, -0.78578341],\n",
       "       [ 0.76964191, -0.43758982],\n",
       "       [ 0.83479052, -1.09081761],\n",
       "       [-0.36347729, -1.19837144],\n",
       "       [ 0.06933191, -1.07903402],\n",
       "       [ 1.47575831,  0.20971885],\n",
       "       [ 0.57882989, -0.92857481],\n",
       "       [ 0.02523696, -0.71921884],\n",
       "       [-1.84459941, -2.73418671],\n",
       "       [-0.22079189, -1.26787562],\n",
       "       [ 1.82869063,  0.81192178],\n",
       "       [-0.83608494, -0.27819384],\n",
       "       [ 0.08713199, -0.72215272],\n",
       "       [ 0.40249892, -1.33663797],\n",
       "       [-1.32195902, -1.84639481],\n",
       "       [-0.46286523, -2.03801236],\n",
       "       [-0.8875033 , -2.77411176],\n",
       "       [-1.24942441, -0.86405863],\n",
       "       [ 1.11878433, -0.2393738 ],\n",
       "       [ 0.0646754 , -1.25375057],\n",
       "       [ 1.44940698,  0.49277001],\n",
       "       [ 0.85802671,  0.15755287],\n",
       "       [ 0.38211012,  0.36237471],\n",
       "       [ 0.84490411, -0.35878548],\n",
       "       [-0.38253672, -2.16100367],\n",
       "       [-0.62914227, -0.80243261],\n",
       "       [ 1.46660614,  0.58337885],\n",
       "       [-0.49378057, -0.99931237],\n",
       "       [ 1.59103952, -0.24409056],\n",
       "       [-0.58907205, -1.40124245],\n",
       "       [-0.34719493, -1.12808184],\n",
       "       [ 0.57168303, -0.28142684],\n",
       "       [-0.05213521, -1.50393071],\n",
       "       [-1.91986824, -2.62018999],\n",
       "       [ 0.92254925,  0.33779021],\n",
       "       [ 0.67576622,  0.17356223],\n",
       "       [-0.83961774, -2.35866281],\n",
       "       [-1.04447163, -1.78340605],\n",
       "       [-1.37969335, -1.18005614],\n",
       "       [ 0.47114791, -1.0055567 ],\n",
       "       [ 1.10184935, -0.41411438],\n",
       "       [-0.03473662, -0.81897317],\n",
       "       [-0.52407025, -1.00091363],\n",
       "       [-0.47198251, -0.55268684],\n",
       "       [-0.6091175 ,  0.11126854],\n",
       "       [-0.32250314, -1.86461718],\n",
       "       [ 0.86336665,  0.168509  ],\n",
       "       [-0.01379137, -0.56221781],\n",
       "       [-0.42592211, -1.47198315],\n",
       "       [ 1.28237581, -0.6756977 ],\n",
       "       [ 0.1527842 , -0.30558165],\n",
       "       [ 0.19083003, -1.59704435],\n",
       "       [-0.28614191, -1.0424458 ],\n",
       "       [ 0.78988864, -0.11288707]])"
      ]
     },
     "execution_count": 25,
     "metadata": {},
     "output_type": "execute_result"
    }
   ],
   "source": [
    "X[0:99]"
   ]
  },
  {
   "cell_type": "markdown",
   "metadata": {},
   "source": [
    "## Q5(d). Plot the Decision Boundaries along with the data for LDA on the $X_1$ and $X_2$ Axis. With Y = 1 as blue and Y2 =2 as orange.  "
   ]
  },
  {
   "cell_type": "code",
   "execution_count": 107,
   "metadata": {},
   "outputs": [
    {
     "ename": "ValueError",
     "evalue": "operands could not be broadcast together with shapes (2,) (10,) ",
     "output_type": "error",
     "traceback": [
      "\u001b[0;31m---------------------------------------------------------------------------\u001b[0m",
      "\u001b[0;31mValueError\u001b[0m                                Traceback (most recent call last)",
      "\u001b[0;32m<ipython-input-107-c454a5fa4f94>\u001b[0m in \u001b[0;36m<module>\u001b[0;34m\u001b[0m\n\u001b[1;32m      3\u001b[0m \u001b[0;31m# Plot the LDA boundary\u001b[0m\u001b[0;34m\u001b[0m\u001b[0;34m\u001b[0m\u001b[0;34m\u001b[0m\u001b[0m\n\u001b[1;32m      4\u001b[0m \u001b[0mx1_lda\u001b[0m \u001b[0;34m=\u001b[0m \u001b[0mnp\u001b[0m\u001b[0;34m.\u001b[0m\u001b[0mlinspace\u001b[0m\u001b[0;34m(\u001b[0m\u001b[0;34m-\u001b[0m\u001b[0;36m3\u001b[0m\u001b[0;34m,\u001b[0m \u001b[0;36m4\u001b[0m\u001b[0;34m,\u001b[0m \u001b[0;36m10\u001b[0m\u001b[0;34m)\u001b[0m\u001b[0;34m\u001b[0m\u001b[0;34m\u001b[0m\u001b[0m\n\u001b[0;32m----> 5\u001b[0;31m \u001b[0mx2_lda\u001b[0m \u001b[0;34m=\u001b[0m  \u001b[0;36m0.3637822\u001b[0m \u001b[0;34m+\u001b[0m \u001b[0;34m(\u001b[0m\u001b[0mnp\u001b[0m\u001b[0;34m.\u001b[0m\u001b[0mlinalg\u001b[0m\u001b[0;34m.\u001b[0m\u001b[0minv\u001b[0m\u001b[0;34m(\u001b[0m\u001b[0mmodel_lda\u001b[0m\u001b[0;34m.\u001b[0m\u001b[0mcovariance_\u001b[0m\u001b[0;34m)\u001b[0m\u001b[0;34m.\u001b[0m\u001b[0mdot\u001b[0m\u001b[0;34m(\u001b[0m\u001b[0mmodel_lda\u001b[0m\u001b[0;34m.\u001b[0m\u001b[0mmeans_\u001b[0m\u001b[0;34m[\u001b[0m\u001b[0;36m0\u001b[0m\u001b[0;34m,\u001b[0m\u001b[0;34m]\u001b[0m \u001b[0;34m-\u001b[0m \u001b[0mmodel_lda\u001b[0m\u001b[0;34m.\u001b[0m\u001b[0mmeans_\u001b[0m\u001b[0;34m[\u001b[0m\u001b[0;36m1\u001b[0m\u001b[0;34m,\u001b[0m\u001b[0;34m]\u001b[0m\u001b[0;34m)\u001b[0m\u001b[0;34m)\u001b[0m\u001b[0;34m*\u001b[0m\u001b[0mx1_lda\u001b[0m\u001b[0;34m\u001b[0m\u001b[0;34m\u001b[0m\u001b[0m\n\u001b[0m\u001b[1;32m      6\u001b[0m \u001b[0mplt\u001b[0m\u001b[0;34m.\u001b[0m\u001b[0mxlabel\u001b[0m\u001b[0;34m(\u001b[0m\u001b[0;34m'X1'\u001b[0m\u001b[0;34m)\u001b[0m\u001b[0;34m\u001b[0m\u001b[0;34m\u001b[0m\u001b[0m\n\u001b[1;32m      7\u001b[0m \u001b[0mplt\u001b[0m\u001b[0;34m.\u001b[0m\u001b[0mylabel\u001b[0m\u001b[0;34m(\u001b[0m\u001b[0;34m'X2'\u001b[0m\u001b[0;34m)\u001b[0m\u001b[0;34m\u001b[0m\u001b[0;34m\u001b[0m\u001b[0m\n",
      "\u001b[0;31mValueError\u001b[0m: operands could not be broadcast together with shapes (2,) (10,) "
     ]
    },
    {
     "data": {
      "image/png": "[encoded data removed]",
      "text/plain": [
       "<Figure size 432x288 with 1 Axes>"
      ]
     },
     "metadata": {},
     "output_type": "display_data"
    }
   ],
   "source": [
    "\n",
    "plt.scatter(X[0:99,0],X[0:99,1] , color='lightblue')\n",
    "plt.scatter(X[100:199,0],X[100:199,1] , color='orange')\n",
    "# Plot the LDA boundary  \n",
    "x1_lda = np.linspace(-3, 4, 10)\n",
    "x2_lda =  0.3637822 + (np.linalg.inv(model_lda.covariance_).dot(model_lda.means_[0,] - model_lda.means_[1,]))*x1_lda\n",
    "plt.xlabel('X1')\n",
    "plt.ylabel('X2')\n",
    "plt.plot(x1_lda, x2_lda, color='black', linewidth = 3)\n",
    "\n",
    "\n",
    "\n"
   ]
  },
  {
   "cell_type": "markdown",
   "metadata": {},
   "source": [
    "## Q5.(e) Find the Bayes Error Rate using the simulation you have done in the lab and compare that with the error of logistic , LDA and QDA."
   ]
  },
  {
   "cell_type": "code",
   "execution_count": 26,
   "metadata": {},
   "outputs": [
    {
     "data": {
      "text/plain": [
       "array([[0.96501355, 0.56513102],\n",
       "       [0.56513102, 0.55881561]])"
      ]
     },
     "execution_count": 26,
     "metadata": {},
     "output_type": "execute_result"
    }
   ],
   "source": [
    "model_lda.covariance_"
   ]
  },
  {
   "cell_type": "code",
   "execution_count": 108,
   "metadata": {},
   "outputs": [],
   "source": [
    "from scipy.stats import multivariate_normal\n",
    "\n",
    "### Calculate the Bayes Error RATE \n",
    "value     = np.ones(len(y_test))\n",
    "for i in np.arange(len(y_test)):\n",
    "    p1    = multivariate_normal.pdf(X_test[i,], mean1, Cov)\n",
    "    p2    = multivariate_normal.pdf(X_test[i,], mean2, Cov)\n",
    "    value = np.append(value, np.maximum(p1/(p1+p2),p2/(p1+p2))) "
   ]
  },
  {
   "cell_type": "code",
   "execution_count": 109,
   "metadata": {},
   "outputs": [
    {
     "data": {
      "text/plain": [
       "0.03594556686399708"
      ]
     },
     "execution_count": 109,
     "metadata": {},
     "output_type": "execute_result"
    }
   ],
   "source": [
    "1 - np.mean(value)"
   ]
  },
  {
   "cell_type": "code",
   "execution_count": 110,
   "metadata": {},
   "outputs": [
    {
     "data": {
      "text/plain": [
       "0.0"
      ]
     },
     "execution_count": 110,
     "metadata": {},
     "output_type": "execute_result"
    }
   ],
   "source": [
    "error_lda"
   ]
  },
  {
   "cell_type": "code",
   "execution_count": 111,
   "metadata": {},
   "outputs": [
    {
     "data": {
      "text/plain": [
       "0.0"
      ]
     },
     "execution_count": 111,
     "metadata": {},
     "output_type": "execute_result"
    }
   ],
   "source": [
    "error_qda"
   ]
  },
  {
   "cell_type": "code",
   "execution_count": 112,
   "metadata": {},
   "outputs": [
    {
     "data": {
      "text/plain": [
       "0.0"
      ]
     },
     "execution_count": 112,
     "metadata": {},
     "output_type": "execute_result"
    }
   ],
   "source": [
    "error_log"
   ]
  },
  {
   "cell_type": "markdown",
   "metadata": {},
   "source": [
    "### Resoning for a 0.0 error in all three models\n",
    "    - because all errors wheere calculated by using 1- accuracy score means that if we where to make a confusion matrix for all three models we would find that 3 models would have only diagonals in their matrix\n",
    "    "
   ]
  },
  {
   "cell_type": "code",
   "execution_count": 114,
   "metadata": {},
   "outputs": [],
   "source": [
    "error_matrixlog = confusion_matrix(y_test, predict_log)\n",
    "error_matrixlda = confusion_matrix(y_test, predict_lda)\n",
    "error_matrixqda = confusion_matrix(y_test, predict_qda)"
   ]
  },
  {
   "cell_type": "code",
   "execution_count": 115,
   "metadata": {},
   "outputs": [
    {
     "data": {
      "text/plain": [
       "(array([[24,  0],\n",
       "        [ 0, 16]]),\n",
       " array([[24,  0],\n",
       "        [ 0, 16]]),\n",
       " array([[24,  0],\n",
       "        [ 0, 16]]))"
      ]
     },
     "execution_count": 115,
     "metadata": {},
     "output_type": "execute_result"
    }
   ],
   "source": [
    "error_matrixlog,error_matrixlda,error_matrixqda"
   ]
  },
  {
   "cell_type": "code",
   "execution_count": null,
   "metadata": {},
   "outputs": [],
   "source": []
  }
 ],
 "metadata": {
  "kernelspec": {
   "display_name": "Python 3",
   "language": "python",
   "name": "python3"
  },
  "language_info": {
   "codemirror_mode": {
    "name": "ipython",
    "version": 3
   },
   "file_extension": ".py",
   "mimetype": "text/x-python",
   "name": "python",
   "nbconvert_exporter": "python",
   "pygments_lexer": "ipython3",
   "version": "3.8.5"
  }
 },
 "nbformat": 4,
 "nbformat_minor": 2
}
