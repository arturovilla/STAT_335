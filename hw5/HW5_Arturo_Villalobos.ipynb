{
 "cells": [
  {
   "cell_type": "code",
   "execution_count": 2,
   "metadata": {},
   "outputs": [],
   "source": [
    "import numpy as np\n",
    "import pandas as pd\n",
    "import matplotlib\n",
    "from mpl_toolkits.mplot3d import Axes3D\n",
    "%matplotlib inline\n",
    "import matplotlib.pyplot as plt\n",
    "\n",
    "from sklearn import svm"
   ]
  },
  {
   "cell_type": "markdown",
   "metadata": {},
   "source": [
    "# Question 1 (Programming) (40 points)"
   ]
  },
  {
   "cell_type": "markdown",
   "metadata": {},
   "source": [
    "1. Read the medical data: chronic kidney disease `ckd.csv` and save it as `kidney`.\n",
    "2. The column `Class` defines the labels. `Class` = 1 indicates the patient has the disease and `Class` = 0 indicates the patient do not have the disease. List all the predictors this data has.   "
   ]
  },
  {
   "cell_type": "code",
   "execution_count": 6,
   "metadata": {},
   "outputs": [
    {
     "data": {
      "text/html": [
       "<div>\n",
       "<style scoped>\n",
       "    .dataframe tbody tr th:only-of-type {\n",
       "        vertical-align: middle;\n",
       "    }\n",
       "\n",
       "    .dataframe tbody tr th {\n",
       "        vertical-align: top;\n",
       "    }\n",
       "\n",
       "    .dataframe thead th {\n",
       "        text-align: right;\n",
       "    }\n",
       "</style>\n",
       "<table border=\"1\" class=\"dataframe\">\n",
       "  <thead>\n",
       "    <tr style=\"text-align: right;\">\n",
       "      <th></th>\n",
       "      <th>Age</th>\n",
       "      <th>Blood Pressure</th>\n",
       "      <th>Specific Gravity</th>\n",
       "      <th>Albumin</th>\n",
       "      <th>Sugar</th>\n",
       "      <th>Red Blood Cells</th>\n",
       "      <th>Pus Cell</th>\n",
       "      <th>Pus Cell clumps</th>\n",
       "      <th>Bacteria</th>\n",
       "      <th>Blood Glucose Random</th>\n",
       "      <th>...</th>\n",
       "      <th>Packed Cell Volume</th>\n",
       "      <th>White Blood Cell Count</th>\n",
       "      <th>Red Blood Cell Count</th>\n",
       "      <th>Hypertension</th>\n",
       "      <th>Diabetes Mellitus</th>\n",
       "      <th>Coronary Artery Disease</th>\n",
       "      <th>Appetite</th>\n",
       "      <th>Pedal Edema</th>\n",
       "      <th>Anemia</th>\n",
       "      <th>Class</th>\n",
       "    </tr>\n",
       "  </thead>\n",
       "  <tbody>\n",
       "    <tr>\n",
       "      <th>0</th>\n",
       "      <td>48</td>\n",
       "      <td>70</td>\n",
       "      <td>1.005</td>\n",
       "      <td>4</td>\n",
       "      <td>0</td>\n",
       "      <td>normal</td>\n",
       "      <td>abnormal</td>\n",
       "      <td>present</td>\n",
       "      <td>notpresent</td>\n",
       "      <td>117</td>\n",
       "      <td>...</td>\n",
       "      <td>32</td>\n",
       "      <td>6700</td>\n",
       "      <td>3.9</td>\n",
       "      <td>yes</td>\n",
       "      <td>no</td>\n",
       "      <td>no</td>\n",
       "      <td>poor</td>\n",
       "      <td>yes</td>\n",
       "      <td>yes</td>\n",
       "      <td>1</td>\n",
       "    </tr>\n",
       "    <tr>\n",
       "      <th>1</th>\n",
       "      <td>53</td>\n",
       "      <td>90</td>\n",
       "      <td>1.020</td>\n",
       "      <td>2</td>\n",
       "      <td>0</td>\n",
       "      <td>abnormal</td>\n",
       "      <td>abnormal</td>\n",
       "      <td>present</td>\n",
       "      <td>notpresent</td>\n",
       "      <td>70</td>\n",
       "      <td>...</td>\n",
       "      <td>29</td>\n",
       "      <td>12100</td>\n",
       "      <td>3.7</td>\n",
       "      <td>yes</td>\n",
       "      <td>yes</td>\n",
       "      <td>no</td>\n",
       "      <td>poor</td>\n",
       "      <td>no</td>\n",
       "      <td>yes</td>\n",
       "      <td>1</td>\n",
       "    </tr>\n",
       "    <tr>\n",
       "      <th>2</th>\n",
       "      <td>63</td>\n",
       "      <td>70</td>\n",
       "      <td>1.010</td>\n",
       "      <td>3</td>\n",
       "      <td>0</td>\n",
       "      <td>abnormal</td>\n",
       "      <td>abnormal</td>\n",
       "      <td>present</td>\n",
       "      <td>notpresent</td>\n",
       "      <td>380</td>\n",
       "      <td>...</td>\n",
       "      <td>32</td>\n",
       "      <td>4500</td>\n",
       "      <td>3.8</td>\n",
       "      <td>yes</td>\n",
       "      <td>yes</td>\n",
       "      <td>no</td>\n",
       "      <td>poor</td>\n",
       "      <td>yes</td>\n",
       "      <td>no</td>\n",
       "      <td>1</td>\n",
       "    </tr>\n",
       "    <tr>\n",
       "      <th>3</th>\n",
       "      <td>68</td>\n",
       "      <td>80</td>\n",
       "      <td>1.010</td>\n",
       "      <td>3</td>\n",
       "      <td>2</td>\n",
       "      <td>normal</td>\n",
       "      <td>abnormal</td>\n",
       "      <td>present</td>\n",
       "      <td>present</td>\n",
       "      <td>157</td>\n",
       "      <td>...</td>\n",
       "      <td>16</td>\n",
       "      <td>11000</td>\n",
       "      <td>2.6</td>\n",
       "      <td>yes</td>\n",
       "      <td>yes</td>\n",
       "      <td>yes</td>\n",
       "      <td>poor</td>\n",
       "      <td>yes</td>\n",
       "      <td>no</td>\n",
       "      <td>1</td>\n",
       "    </tr>\n",
       "    <tr>\n",
       "      <th>4</th>\n",
       "      <td>61</td>\n",
       "      <td>80</td>\n",
       "      <td>1.015</td>\n",
       "      <td>2</td>\n",
       "      <td>0</td>\n",
       "      <td>abnormal</td>\n",
       "      <td>abnormal</td>\n",
       "      <td>notpresent</td>\n",
       "      <td>notpresent</td>\n",
       "      <td>173</td>\n",
       "      <td>...</td>\n",
       "      <td>24</td>\n",
       "      <td>9200</td>\n",
       "      <td>3.2</td>\n",
       "      <td>yes</td>\n",
       "      <td>yes</td>\n",
       "      <td>yes</td>\n",
       "      <td>poor</td>\n",
       "      <td>yes</td>\n",
       "      <td>yes</td>\n",
       "      <td>1</td>\n",
       "    </tr>\n",
       "    <tr>\n",
       "      <th>...</th>\n",
       "      <td>...</td>\n",
       "      <td>...</td>\n",
       "      <td>...</td>\n",
       "      <td>...</td>\n",
       "      <td>...</td>\n",
       "      <td>...</td>\n",
       "      <td>...</td>\n",
       "      <td>...</td>\n",
       "      <td>...</td>\n",
       "      <td>...</td>\n",
       "      <td>...</td>\n",
       "      <td>...</td>\n",
       "      <td>...</td>\n",
       "      <td>...</td>\n",
       "      <td>...</td>\n",
       "      <td>...</td>\n",
       "      <td>...</td>\n",
       "      <td>...</td>\n",
       "      <td>...</td>\n",
       "      <td>...</td>\n",
       "      <td>...</td>\n",
       "    </tr>\n",
       "    <tr>\n",
       "      <th>153</th>\n",
       "      <td>55</td>\n",
       "      <td>80</td>\n",
       "      <td>1.020</td>\n",
       "      <td>0</td>\n",
       "      <td>0</td>\n",
       "      <td>normal</td>\n",
       "      <td>normal</td>\n",
       "      <td>notpresent</td>\n",
       "      <td>notpresent</td>\n",
       "      <td>140</td>\n",
       "      <td>...</td>\n",
       "      <td>47</td>\n",
       "      <td>6700</td>\n",
       "      <td>4.9</td>\n",
       "      <td>no</td>\n",
       "      <td>no</td>\n",
       "      <td>no</td>\n",
       "      <td>good</td>\n",
       "      <td>no</td>\n",
       "      <td>no</td>\n",
       "      <td>0</td>\n",
       "    </tr>\n",
       "    <tr>\n",
       "      <th>154</th>\n",
       "      <td>42</td>\n",
       "      <td>70</td>\n",
       "      <td>1.025</td>\n",
       "      <td>0</td>\n",
       "      <td>0</td>\n",
       "      <td>normal</td>\n",
       "      <td>normal</td>\n",
       "      <td>notpresent</td>\n",
       "      <td>notpresent</td>\n",
       "      <td>75</td>\n",
       "      <td>...</td>\n",
       "      <td>54</td>\n",
       "      <td>7800</td>\n",
       "      <td>6.2</td>\n",
       "      <td>no</td>\n",
       "      <td>no</td>\n",
       "      <td>no</td>\n",
       "      <td>good</td>\n",
       "      <td>no</td>\n",
       "      <td>no</td>\n",
       "      <td>0</td>\n",
       "    </tr>\n",
       "    <tr>\n",
       "      <th>155</th>\n",
       "      <td>12</td>\n",
       "      <td>80</td>\n",
       "      <td>1.020</td>\n",
       "      <td>0</td>\n",
       "      <td>0</td>\n",
       "      <td>normal</td>\n",
       "      <td>normal</td>\n",
       "      <td>notpresent</td>\n",
       "      <td>notpresent</td>\n",
       "      <td>100</td>\n",
       "      <td>...</td>\n",
       "      <td>49</td>\n",
       "      <td>6600</td>\n",
       "      <td>5.4</td>\n",
       "      <td>no</td>\n",
       "      <td>no</td>\n",
       "      <td>no</td>\n",
       "      <td>good</td>\n",
       "      <td>no</td>\n",
       "      <td>no</td>\n",
       "      <td>0</td>\n",
       "    </tr>\n",
       "    <tr>\n",
       "      <th>156</th>\n",
       "      <td>17</td>\n",
       "      <td>60</td>\n",
       "      <td>1.025</td>\n",
       "      <td>0</td>\n",
       "      <td>0</td>\n",
       "      <td>normal</td>\n",
       "      <td>normal</td>\n",
       "      <td>notpresent</td>\n",
       "      <td>notpresent</td>\n",
       "      <td>114</td>\n",
       "      <td>...</td>\n",
       "      <td>51</td>\n",
       "      <td>7200</td>\n",
       "      <td>5.9</td>\n",
       "      <td>no</td>\n",
       "      <td>no</td>\n",
       "      <td>no</td>\n",
       "      <td>good</td>\n",
       "      <td>no</td>\n",
       "      <td>no</td>\n",
       "      <td>0</td>\n",
       "    </tr>\n",
       "    <tr>\n",
       "      <th>157</th>\n",
       "      <td>58</td>\n",
       "      <td>80</td>\n",
       "      <td>1.025</td>\n",
       "      <td>0</td>\n",
       "      <td>0</td>\n",
       "      <td>normal</td>\n",
       "      <td>normal</td>\n",
       "      <td>notpresent</td>\n",
       "      <td>notpresent</td>\n",
       "      <td>131</td>\n",
       "      <td>...</td>\n",
       "      <td>53</td>\n",
       "      <td>6800</td>\n",
       "      <td>6.1</td>\n",
       "      <td>no</td>\n",
       "      <td>no</td>\n",
       "      <td>no</td>\n",
       "      <td>good</td>\n",
       "      <td>no</td>\n",
       "      <td>no</td>\n",
       "      <td>0</td>\n",
       "    </tr>\n",
       "  </tbody>\n",
       "</table>\n",
       "<p>158 rows × 25 columns</p>\n",
       "</div>"
      ],
      "text/plain": [
       "     Age  Blood Pressure  Specific Gravity  Albumin  Sugar Red Blood Cells  \\\n",
       "0     48              70             1.005        4      0          normal   \n",
       "1     53              90             1.020        2      0        abnormal   \n",
       "2     63              70             1.010        3      0        abnormal   \n",
       "3     68              80             1.010        3      2          normal   \n",
       "4     61              80             1.015        2      0        abnormal   \n",
       "..   ...             ...               ...      ...    ...             ...   \n",
       "153   55              80             1.020        0      0          normal   \n",
       "154   42              70             1.025        0      0          normal   \n",
       "155   12              80             1.020        0      0          normal   \n",
       "156   17              60             1.025        0      0          normal   \n",
       "157   58              80             1.025        0      0          normal   \n",
       "\n",
       "     Pus Cell Pus Cell clumps    Bacteria  Blood Glucose Random  ...  \\\n",
       "0    abnormal         present  notpresent                   117  ...   \n",
       "1    abnormal         present  notpresent                    70  ...   \n",
       "2    abnormal         present  notpresent                   380  ...   \n",
       "3    abnormal         present     present                   157  ...   \n",
       "4    abnormal      notpresent  notpresent                   173  ...   \n",
       "..        ...             ...         ...                   ...  ...   \n",
       "153    normal      notpresent  notpresent                   140  ...   \n",
       "154    normal      notpresent  notpresent                    75  ...   \n",
       "155    normal      notpresent  notpresent                   100  ...   \n",
       "156    normal      notpresent  notpresent                   114  ...   \n",
       "157    normal      notpresent  notpresent                   131  ...   \n",
       "\n",
       "     Packed Cell Volume  White Blood Cell Count  Red Blood Cell Count  \\\n",
       "0                    32                    6700                   3.9   \n",
       "1                    29                   12100                   3.7   \n",
       "2                    32                    4500                   3.8   \n",
       "3                    16                   11000                   2.6   \n",
       "4                    24                    9200                   3.2   \n",
       "..                  ...                     ...                   ...   \n",
       "153                  47                    6700                   4.9   \n",
       "154                  54                    7800                   6.2   \n",
       "155                  49                    6600                   5.4   \n",
       "156                  51                    7200                   5.9   \n",
       "157                  53                    6800                   6.1   \n",
       "\n",
       "     Hypertension  Diabetes Mellitus  Coronary Artery Disease  Appetite  \\\n",
       "0             yes                 no                       no      poor   \n",
       "1             yes                yes                       no      poor   \n",
       "2             yes                yes                       no      poor   \n",
       "3             yes                yes                      yes      poor   \n",
       "4             yes                yes                      yes      poor   \n",
       "..            ...                ...                      ...       ...   \n",
       "153            no                 no                       no      good   \n",
       "154            no                 no                       no      good   \n",
       "155            no                 no                       no      good   \n",
       "156            no                 no                       no      good   \n",
       "157            no                 no                       no      good   \n",
       "\n",
       "     Pedal Edema Anemia Class  \n",
       "0            yes    yes     1  \n",
       "1             no    yes     1  \n",
       "2            yes     no     1  \n",
       "3            yes     no     1  \n",
       "4            yes    yes     1  \n",
       "..           ...    ...   ...  \n",
       "153           no     no     0  \n",
       "154           no     no     0  \n",
       "155           no     no     0  \n",
       "156           no     no     0  \n",
       "157           no     no     0  \n",
       "\n",
       "[158 rows x 25 columns]"
      ]
     },
     "execution_count": 6,
     "metadata": {},
     "output_type": "execute_result"
    }
   ],
   "source": [
    "kidney = pd.read_csv('/Users/arturovillalobos/STAT_files/HOMEWORK/hw5/ckd.csv')\n",
    "kidney"
   ]
  },
  {
   "cell_type": "markdown",
   "metadata": {},
   "source": [
    "Note that lot of predictors are qualitative. Some quantitaive variables/predictor have different scales. We will select few of the predictors and work in standard units. Then we donot have to worry about the scales of different variables.\n",
    "\n",
    "We will Standardized the predictors with the following function : `standard_units`"
   ]
  },
  {
   "cell_type": "code",
   "execution_count": null,
   "metadata": {},
   "outputs": [],
   "source": [
    "def standard_units(x):\n",
    "    return (x - np.mean(x))/np.std(x)"
   ]
  },
  {
   "cell_type": "markdown",
   "metadata": {},
   "source": [
    "3. Extract the columns `Class`, `White Blood Cell Count`, `Blood Glucose Random`, `Hemoglobin` from the data, kidney.\n",
    "4. Scatter plot with `White Blood Cell Count` as X Axis and `Blood Glucose Random` as Y Axis. Color the different observation with different colors for Class 0 and Class 1. Add a legend to the plot for different classes."
   ]
  },
  {
   "cell_type": "code",
   "execution_count": null,
   "metadata": {},
   "outputs": [],
   "source": [
    "...............\n",
    "plt.scatter(........, ......., color = 'orange', label = \"Disease\" )\n",
    "plt.scatter(........, ......., color = 'blue', label = \"No Disease\")\n",
    "plt.legend()\n",
    "plt.show()"
   ]
  },
  {
   "cell_type": "markdown",
   "metadata": {},
   "source": [
    "5. Redo the scatter plot with `Hemoglobin` and `Blood Glucose Random` and with different colors for Class 0 and Class 1. Add a legend to the plot for different classes.\n",
    "\n",
    "#### Then compare 4 and 5 and comment which two predictors are better in Classifying the disease and non disease patients ?"
   ]
  },
  {
   "cell_type": "code",
   "execution_count": null,
   "metadata": {},
   "outputs": [],
   "source": [
    "plt.scatter(........, ......., color = 'orange', label = \"Disease\" )\n",
    "plt.scatter(........, ......., color = 'blue', label = \"No Disease\")\n",
    "plt.legend()\n",
    "plt.show()"
   ]
  },
  {
   "cell_type": "markdown",
   "metadata": {},
   "source": [
    "6. Between Q4 and Q5, where is it possible to find a `Maximal Marginal Classifier`? Explain.\n"
   ]
  },
  {
   "cell_type": "markdown",
   "metadata": {},
   "source": [
    "7. `Hemoglobin` and `Blood Glucose Random` have different scales. We will work in standard units. Then we donot have to worry about the scales of different variables. Standardized the predictors with the function : `standard_units`. And redo the scatter plot for Q5. And focus the plot only for X Axis = (-2, 2) and YAxis = (-2,2)"
   ]
  },
  {
   "cell_type": "code",
   "execution_count": null,
   "metadata": {},
   "outputs": [],
   "source": [
    "hemo = standard_units(......)\n",
    "glu  = standard_units(......)"
   ]
  },
  {
   "cell_type": "code",
   "execution_count": null,
   "metadata": {},
   "outputs": [],
   "source": [
    "plt.scatter(........, ......., color = 'orange', label = \"Disease\" )\n",
    "plt.scatter(........, ......., color = 'blue', label = \"No Disease\")\n",
    "plt.legend()\n",
    "plt.xlim(-2,2)\n",
    "plt.ylim(-2,2)\n",
    "plt.show()"
   ]
  },
  {
   "cell_type": "markdown",
   "metadata": {},
   "source": [
    "7.  Fit a Support Vector Classifier and Support Vector Machine Classifier using `Radial` kernel to simply fit a classifier on Q5. You will use the stanadrdized values of the predictors `Hemoglobin` and `Blood Glucose Random`. \n",
    "##### And find the support vectors .  Use the function `svm.SVC( )`\n",
    "\n",
    "### WARNING: In sklearn package,  in svm module, A `low C` makes the decision surface smooth, while a `high C` aims at classifying all training examples correctly, which is opposite in theory we learnt. Set `C = 1000` to make the decision boundary smooth. "
   ]
  },
  {
   "cell_type": "code",
   "execution_count": null,
   "metadata": {},
   "outputs": [],
   "source": [
    "X = np.column_stack([hemo, glu])\n",
    "y = .........\n",
    "svc = svm.SVC(kernel='linear', C=1000)\n",
    "svc.fit(X, y)\n",
    "print(svc.support_vectors_)"
   ]
  },
  {
   "cell_type": "markdown",
   "metadata": {},
   "source": [
    "8. a) Plot the **support vectors** in RED. Add the data in the Background"
   ]
  },
  {
   "cell_type": "code",
   "execution_count": null,
   "metadata": {},
   "outputs": [],
   "source": [
    "plt.....(........, ......., color = 'orange', label = \"Disease\" )\n",
    "plt.....(........, ......., color = 'blue', label = \"No Disease\")\n",
    "plt.scatter(svc.support_vectors_[:,0], svc.support_vectors_[:,1], color = \"red\", s = 100)\n",
    "plt.xlim(-1.5,1.5)\n",
    "plt.ylim(-1.5,1.5)\n",
    "plt.show()"
   ]
  },
  {
   "cell_type": "markdown",
   "metadata": {},
   "source": [
    "9. Fit a  Support Vector Machine Classifier using `Radial` kernel to simply fit a classifier on Q5. You will again use the predictors `Hemoglobin` and `Blood Glucose Random`. \n",
    "\n",
    "##### And find the support vectors ."
   ]
  },
  {
   "cell_type": "code",
   "execution_count": null,
   "metadata": {},
   "outputs": [],
   "source": [
    "svc = svm.SVC(kernel='rbf', C = 1000)\n",
    "svc.fit(X, y)\n",
    "print(svc.support_vectors_)"
   ]
  },
  {
   "cell_type": "markdown",
   "metadata": {},
   "source": [
    "10. Plot the Support Vector Machine Decision Boundary. Plot the **support vectors** in RED. Add the data in the Background"
   ]
  },
  {
   "cell_type": "code",
   "execution_count": null,
   "metadata": {},
   "outputs": [],
   "source": [
    ".........................\n",
    "plt.xlim(-1.5,1.5)\n",
    "plt.ylim(-1.5,1.5)\n",
    "plt.show()"
   ]
  },
  {
   "cell_type": "markdown",
   "metadata": {},
   "source": [
    "# Question 2 (Theoretical and Programming) [40 points]"
   ]
  },
  {
   "cell_type": "markdown",
   "metadata": {},
   "source": [
    "a) We are given $n = 7$ observations in $p = 2$ dimensions. For each observation, there is an associated class label. \n",
    "\n",
    "\n",
    "| Obs. | $X_1$ | $X_2$ | $Y$   |\n",
    "|------|-------|-------|-------|\n",
    "| 1    | 3     | 4     | Red   |\n",
    "| 2    | 2     | 2     | Red   |\n",
    "| 3    | 4     | 4     | Red   |\n",
    "| 4    | 1     | 4     | Red   |\n",
    "| 5    | 2     | 1     | Blue  |\n",
    "| 6    | 4     | 3     | Blue  |\n",
    "| 7    | 4     | 1     | Blue  |\n",
    "\n",
    "\n",
    "Save the data in a Dataframe format. Use `pd.DataFrame`.  Then Sketch the observation using scatter plot. And color code each of the observation according to their color.\n"
   ]
  },
  {
   "cell_type": "code",
   "execution_count": null,
   "metadata": {},
   "outputs": [],
   "source": [
    "d = ............\n",
    "df = pd.DataFrame(........)\n",
    "data = df.to_numpy()\n",
    "X1 = data[:, 0]\n",
    "X2 = data[:, 1]\n",
    "Y  = data[:,2]\n",
    "plt.scatter(X1[Y==\"Red\"], X2[Y==\"Red\"], color = 'red')\n",
    "plt.scatter(X1[Y==\"Blue\"], X2[Y==\"Blue\"], color = 'blue')"
   ]
  },
  {
   "cell_type": "markdown",
   "metadata": {},
   "source": [
    "b) Convert Y into a numerical binary variable and save is a lower case `y`. Find the supporting vectors for the OPTIMAL separating Hyperplane"
   ]
  },
  {
   "cell_type": "code",
   "execution_count": null,
   "metadata": {},
   "outputs": [],
   "source": [
    "## The support vectors are \n",
    "supp_vec = .................\n",
    "print(supp_vec)"
   ]
  },
  {
   "cell_type": "markdown",
   "metadata": {},
   "source": [
    "c) Plot the support vectors on the scatter plot in `color = 'gold'`. Add the other observations as well to get a perspective."
   ]
  },
  {
   "cell_type": "code",
   "execution_count": null,
   "metadata": {},
   "outputs": [],
   "source": [
    "y = np.ones(7)\n",
    "y[Y == \"Red\"] = 0\n",
    "plt.scatter(........)\n",
    "plt.scatter(.........)\n",
    "plt.scatter(.........)"
   ]
  },
  {
   "cell_type": "markdown",
   "metadata": {},
   "source": [
    "d) Find the maximal GAP between the classes. Without sketching, comment where should you draw the MArGIN and the OPTIMAL separating Hyperplane. "
   ]
  },
  {
   "cell_type": "code",
   "execution_count": null,
   "metadata": {},
   "outputs": [],
   "source": [
    "gap = ...........\n",
    "print(gap)"
   ]
  },
  {
   "cell_type": "markdown",
   "metadata": {},
   "source": [
    "e) Plot two  Margins and the Optimal Separating Hyperplane along with the data."
   ]
  },
  {
   "cell_type": "code",
   "execution_count": null,
   "metadata": {},
   "outputs": [],
   "source": [
    "## The Maximal MARGINs\n",
    "plt.scatter(X1[Y==\"Red\"], X2[Y==\"Red\"], color = 'red')\n",
    "plt.scatter(X1[Y==\"Blue\"], X2[Y==\"Blue\"], color = 'blue')\n",
    "# Margin 1 \n",
    "plt.plot(............)\n",
    "# Margin 2\n",
    "plt.plot(.............)"
   ]
  },
  {
   "cell_type": "code",
   "execution_count": null,
   "metadata": {},
   "outputs": [],
   "source": [
    "## The Optimal Separating Hyperplane\n",
    "plt.scatter(X1[Y==\"Red\"], X2[Y==\"Red\"], color = 'red')\n",
    "plt.scatter(X1[Y==\"Blue\"], X2[Y==\"Blue\"], color = 'blue')\n",
    "# Margin 1 \n",
    "plt.plot(............)\n",
    "# Margin 2\n",
    "plt.plot(.............)\n",
    "# Optimal Hyperplane\n",
    "plt.plot(..............)"
   ]
  },
  {
   "cell_type": "markdown",
   "metadata": {},
   "source": [
    "f) The Maximal Margin Hyperplane for 2 predictors is $\\beta_0 + \\beta_1x_1 + \\beta_2x_2 = 0$.  Find the coefficienct and Write down the equation."
   ]
  },
  {
   "cell_type": "markdown",
   "metadata": {},
   "source": [
    "g)  State the Classification Rule for the Maximal margin Classifier your obtained above. Replace the $\\beta_0, \\beta_1 and \\beta_2$."
   ]
  },
  {
   "cell_type": "markdown",
   "metadata": {},
   "source": [
    "##### Ans:   We will classify  a new observation with predictors $(x^*_1, x^*_2)$  to Blue class if  \n",
    "\n",
    "$$  \\beta_0 + \\beta_1x^*_1 + \\beta_2x^*_2  >  0  $$ \n",
    "\n",
    "and classify to Red class if \n",
    " \n",
    "$$  \\beta_0 + \\beta_1x^*_1 + \\beta_2x^*_2  < 0  $$  "
   ]
  },
  {
   "cell_type": "markdown",
   "metadata": {},
   "source": [
    "h) Will the slight movement of the 7th observation affect the Maximal Margin Hyperplane ?  Explain your answer.\n"
   ]
  },
  {
   "cell_type": "markdown",
   "metadata": {},
   "source": [
    "i) Sketch any another Hyperplane that separates the class but is not optimal."
   ]
  },
  {
   "cell_type": "code",
   "execution_count": null,
   "metadata": {},
   "outputs": [],
   "source": [
    "plt.scatter(X1[Y==\"Red\"], X2[Y==\"Red\"], color = 'red')\n",
    "plt.scatter(X1[Y==\"Blue\"], X2[Y==\"Blue\"], color = 'blue')\n",
    "## NOt the Optimal Separating Hyperplane\n",
    "plt.plot(...................)"
   ]
  },
  {
   "cell_type": "markdown",
   "metadata": {},
   "source": [
    "j) Add any additional observation on the plot such that the two classes are no longer separable by a Hyperplane. \n"
   ]
  },
  {
   "cell_type": "code",
   "execution_count": null,
   "metadata": {},
   "outputs": [],
   "source": [
    "plt.scatter(X1[Y==\"red\"], X2[Y==\"red\"], color = 'red')\n",
    "plt.scatter(X1[Y==\"blue\"], X2[Y==\"blue\"], color = 'blue')\n",
    "plt.scatter(..................)"
   ]
  },
  {
   "cell_type": "markdown",
   "metadata": {},
   "source": [
    "# Question 3 ( Programming ) [20 points]"
   ]
  },
  {
   "cell_type": "markdown",
   "metadata": {},
   "source": [
    "1. Read the data `banknote.csv` and save as `banknote`. Note the labels are given in the columns of `Class`. List all the predictors."
   ]
  },
  {
   "cell_type": "code",
   "execution_count": null,
   "metadata": {},
   "outputs": [],
   "source": [
    "banknote = pd.read_csv(.........)\n",
    "............"
   ]
  },
  {
   "cell_type": "markdown",
   "metadata": {},
   "source": [
    "2. Write in words what does `variance` , `skewnewss` and `Curtosis` represents ? "
   ]
  },
  {
   "cell_type": "markdown",
   "metadata": {},
   "source": [
    "3. Scatter plot of 2 predictor `WaveletSkew` vs `Entropy` and color the different classes. Should Linear Classifier like Logistic/ LDA/ Support Vector Classifier be a accurate classifier here ? "
   ]
  },
  {
   "cell_type": "code",
   "execution_count": null,
   "metadata": {},
   "outputs": [],
   "source": [
    "data = banknote.to_numpy()\n",
    "y    = data[:,-1]\n",
    "Var  = data[:,0]\n",
    "Skew = data[:,1]\n",
    "Curt = data[:,2]\n",
    "Entropy = data[:,-2]\n",
    "plt.scatter(......., ......, color = \"gold\", label = \"Class 0\")\n",
    "plt.scatter(......., ....., color = \"purple\", label = \"class 1\")\n",
    "plt.legend()"
   ]
  },
  {
   "cell_type": "markdown",
   "metadata": {},
   "source": [
    "4. We will expand or enrich the predictor space by adding higher order polynomial moments. Run the following chunck to create a 3D Scatter plot on 3 predictors `WaveletSkew`, `WaveletVar` and `WaveletCurt` and color code the observation based on their classes. "
   ]
  },
  {
   "cell_type": "code",
   "execution_count": null,
   "metadata": {},
   "outputs": [],
   "source": [
    "fig = plt.figure(figsize=(8,8))\n",
    "ax = Axes3D(fig)\n",
    "ax.scatter(Skew[y==0], Var[y==0], Curt[y==0], color = \"gold\", label = \"Class 0\")\n",
    "ax.scatter(Skew[y==1], Var[y==1], Curt[y==1], color = \"purple\", label = \"Class 0\")\n",
    "plt.legend()"
   ]
  },
  {
   "cell_type": "markdown",
   "metadata": {},
   "source": [
    "After enriching the predictors to higher order polynomial, and moving from predictor dimension p = 2 to p = 3, do you think that the linear classifiers , like, Support Vectors Classifiers or Logistic Regression can be used here ?  "
   ]
  },
  {
   "cell_type": "code",
   "execution_count": null,
   "metadata": {},
   "outputs": [],
   "source": []
  }
 ],
 "metadata": {
  "kernelspec": {
   "display_name": "Python 3",
   "language": "python",
   "name": "python3"
  },
  "language_info": {
   "codemirror_mode": {
    "name": "ipython",
    "version": 3
   },
   "file_extension": ".py",
   "mimetype": "text/x-python",
   "name": "python",
   "nbconvert_exporter": "python",
   "pygments_lexer": "ipython3",
   "version": "3.8.5"
  }
 },
 "nbformat": 4,
 "nbformat_minor": 2
}
